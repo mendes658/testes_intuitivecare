{
  "nbformat": 4,
  "nbformat_minor": 0,
  "metadata": {
    "colab": {
      "name": "teste_2",
      "provenance": [],
      "collapsed_sections": []
    },
    "kernelspec": {
      "name": "python3",
      "display_name": "Python 3"
    },
    "language_info": {
      "name": "python"
    }
  },
  "cells": [
    {
      "cell_type": "code",
      "execution_count": null,
      "metadata": {
        "id": "W2Z34D8TM7Sn",
        "colab": {
          "base_uri": "https://localhost:8080/"
        },
        "outputId": "d1c65db0-a221-493d-bee7-1f84a800a8b7"
      },
      "outputs": [
        {
          "output_type": "stream",
          "name": "stdout",
          "text": [
            "Looking in indexes: https://pypi.org/simple, https://us-python.pkg.dev/colab-wheels/public/simple/\n",
            "Collecting camelot-py\n",
            "  Downloading camelot_py-0.10.1-py3-none-any.whl (40 kB)\n",
            "\u001b[K     |████████████████████████████████| 40 kB 23 kB/s \n",
            "\u001b[?25hRequirement already satisfied: openpyxl>=2.5.8 in /usr/local/lib/python3.7/dist-packages (from camelot-py) (3.0.10)\n",
            "Requirement already satisfied: chardet>=3.0.4 in /usr/local/lib/python3.7/dist-packages (from camelot-py) (3.0.4)\n",
            "Collecting pdfminer.six>=20200726\n",
            "  Downloading pdfminer.six-20220524-py3-none-any.whl (5.6 MB)\n",
            "\u001b[K     |████████████████████████████████| 5.6 MB 7.8 MB/s \n",
            "\u001b[?25hRequirement already satisfied: click>=6.7 in /usr/local/lib/python3.7/dist-packages (from camelot-py) (7.1.2)\n",
            "Collecting PyPDF2>=1.26.0\n",
            "  Downloading PyPDF2-2.0.0-py3-none-any.whl (88 kB)\n",
            "\u001b[K     |████████████████████████████████| 88 kB 6.4 MB/s \n",
            "\u001b[?25hRequirement already satisfied: numpy>=1.13.3 in /usr/local/lib/python3.7/dist-packages (from camelot-py) (1.21.6)\n",
            "Requirement already satisfied: tabulate>=0.8.9 in /usr/local/lib/python3.7/dist-packages (from camelot-py) (0.8.9)\n",
            "Requirement already satisfied: pandas>=0.23.4 in /usr/local/lib/python3.7/dist-packages (from camelot-py) (1.3.5)\n",
            "Requirement already satisfied: et-xmlfile in /usr/local/lib/python3.7/dist-packages (from openpyxl>=2.5.8->camelot-py) (1.1.0)\n",
            "Requirement already satisfied: python-dateutil>=2.7.3 in /usr/local/lib/python3.7/dist-packages (from pandas>=0.23.4->camelot-py) (2.8.2)\n",
            "Requirement already satisfied: pytz>=2017.3 in /usr/local/lib/python3.7/dist-packages (from pandas>=0.23.4->camelot-py) (2022.1)\n",
            "Requirement already satisfied: charset-normalizer>=2.0.0 in /usr/local/lib/python3.7/dist-packages (from pdfminer.six>=20200726->camelot-py) (2.0.12)\n",
            "Collecting cryptography>=36.0.0\n",
            "  Downloading cryptography-37.0.2-cp36-abi3-manylinux_2_24_x86_64.whl (4.0 MB)\n",
            "\u001b[K     |████████████████████████████████| 4.0 MB 8.4 MB/s \n",
            "\u001b[?25hRequirement already satisfied: cffi>=1.12 in /usr/local/lib/python3.7/dist-packages (from cryptography>=36.0.0->pdfminer.six>=20200726->camelot-py) (1.15.0)\n",
            "Requirement already satisfied: pycparser in /usr/local/lib/python3.7/dist-packages (from cffi>=1.12->cryptography>=36.0.0->pdfminer.six>=20200726->camelot-py) (2.21)\n",
            "Requirement already satisfied: typing-extensions in /usr/local/lib/python3.7/dist-packages (from PyPDF2>=1.26.0->camelot-py) (4.2.0)\n",
            "Requirement already satisfied: six>=1.5 in /usr/local/lib/python3.7/dist-packages (from python-dateutil>=2.7.3->pandas>=0.23.4->camelot-py) (1.15.0)\n",
            "Installing collected packages: cryptography, PyPDF2, pdfminer.six, camelot-py\n",
            "Successfully installed PyPDF2-2.0.0 camelot-py-0.10.1 cryptography-37.0.2 pdfminer.six-20220524\n"
          ]
        }
      ],
      "source": [
        "!pip install camelot-py"
      ]
    },
    {
      "cell_type": "code",
      "source": [
        "!apt install ghostscript"
      ],
      "metadata": {
        "id": "4VVOtfx3O5sE",
        "colab": {
          "base_uri": "https://localhost:8080/"
        },
        "outputId": "f7bd4a50-5509-4c0b-92f4-8ef0e47a7cf7"
      },
      "execution_count": null,
      "outputs": [
        {
          "output_type": "stream",
          "name": "stdout",
          "text": [
            "Reading package lists... Done\n",
            "Building dependency tree       \n",
            "Reading state information... Done\n",
            "The following package was automatically installed and is no longer required:\n",
            "  libnvidia-common-460\n",
            "Use 'apt autoremove' to remove it.\n",
            "The following additional packages will be installed:\n",
            "  fonts-droid-fallback fonts-noto-mono gsfonts libcupsfilters1 libcupsimage2\n",
            "  libgs9 libgs9-common libijs-0.35 libjbig2dec0 poppler-data\n",
            "Suggested packages:\n",
            "  fonts-noto ghostscript-x poppler-utils fonts-japanese-mincho\n",
            "  | fonts-ipafont-mincho fonts-japanese-gothic | fonts-ipafont-gothic\n",
            "  fonts-arphic-ukai fonts-arphic-uming fonts-nanum\n",
            "The following NEW packages will be installed:\n",
            "  fonts-droid-fallback fonts-noto-mono ghostscript gsfonts libcupsfilters1\n",
            "  libcupsimage2 libgs9 libgs9-common libijs-0.35 libjbig2dec0 poppler-data\n",
            "0 upgraded, 11 newly installed, 0 to remove and 42 not upgraded.\n",
            "Need to get 14.1 MB of archives.\n",
            "After this operation, 49.9 MB of additional disk space will be used.\n",
            "Get:1 http://archive.ubuntu.com/ubuntu bionic/main amd64 fonts-droid-fallback all 1:6.0.1r16-1.1 [1,805 kB]\n",
            "Get:2 http://archive.ubuntu.com/ubuntu bionic/main amd64 poppler-data all 0.4.8-2 [1,479 kB]\n",
            "Get:3 http://archive.ubuntu.com/ubuntu bionic/main amd64 fonts-noto-mono all 20171026-2 [75.5 kB]\n",
            "Ign:4 http://archive.ubuntu.com/ubuntu bionic-updates/main amd64 libcupsimage2 amd64 2.2.7-1ubuntu2.8\n",
            "Get:5 http://archive.ubuntu.com/ubuntu bionic/main amd64 libijs-0.35 amd64 0.35-13 [15.5 kB]\n",
            "Get:6 http://archive.ubuntu.com/ubuntu bionic/main amd64 libjbig2dec0 amd64 0.13-6 [55.9 kB]\n",
            "Get:7 http://archive.ubuntu.com/ubuntu bionic-updates/main amd64 libgs9-common all 9.26~dfsg+0-0ubuntu0.18.04.16 [5,093 kB]\n",
            "Get:8 http://archive.ubuntu.com/ubuntu bionic-updates/main amd64 libgs9 amd64 9.26~dfsg+0-0ubuntu0.18.04.16 [2,265 kB]\n",
            "Get:9 http://archive.ubuntu.com/ubuntu bionic-updates/main amd64 ghostscript amd64 9.26~dfsg+0-0ubuntu0.18.04.16 [51.3 kB]\n",
            "Get:10 http://archive.ubuntu.com/ubuntu bionic/main amd64 gsfonts all 1:8.11+urwcyr1.0.7~pre44-4.4 [3,120 kB]\n",
            "Get:11 http://archive.ubuntu.com/ubuntu bionic-updates/main amd64 libcupsfilters1 amd64 1.20.2-0ubuntu3.1 [108 kB]\n",
            "Err:4 http://security.ubuntu.com/ubuntu bionic-updates/main amd64 libcupsimage2 amd64 2.2.7-1ubuntu2.8\n",
            "  404  Not Found [IP: 91.189.91.38 80]\n",
            "Fetched 14.1 MB in 1s (19.5 MB/s)\n",
            "E: Failed to fetch http://security.ubuntu.com/ubuntu/pool/main/c/cups/libcupsimage2_2.2.7-1ubuntu2.8_amd64.deb  404  Not Found [IP: 91.189.91.38 80]\n",
            "E: Unable to fetch some archives, maybe run apt-get update or try with --fix-missing?\n"
          ]
        }
      ]
    },
    {
      "cell_type": "code",
      "source": [
        "!pip install ghostscript"
      ],
      "metadata": {
        "id": "zxOkXOUeO_4R",
        "colab": {
          "base_uri": "https://localhost:8080/"
        },
        "outputId": "80550148-f707-471d-9191-e7b75aafa578"
      },
      "execution_count": null,
      "outputs": [
        {
          "output_type": "stream",
          "name": "stdout",
          "text": [
            "Looking in indexes: https://pypi.org/simple, https://us-python.pkg.dev/colab-wheels/public/simple/\n",
            "Collecting ghostscript\n",
            "  Downloading ghostscript-0.7-py2.py3-none-any.whl (25 kB)\n",
            "Requirement already satisfied: setuptools>=38.6.0 in /usr/local/lib/python3.7/dist-packages (from ghostscript) (57.4.0)\n",
            "Installing collected packages: ghostscript\n",
            "Successfully installed ghostscript-0.7\n"
          ]
        }
      ]
    },
    {
      "cell_type": "markdown",
      "source": [
        "* Barra de progresso que será exibida na transformação de pdf para .csv ↓"
      ],
      "metadata": {
        "id": "Rf3Q9YxTPQ9M"
      }
    },
    {
      "cell_type": "code",
      "source": [
        "!apt update"
      ],
      "metadata": {
        "colab": {
          "base_uri": "https://localhost:8080/"
        },
        "id": "IWu8ZbZWSpXQ",
        "outputId": "ad15b61a-ce38-437f-91df-7ec50742ffcc"
      },
      "execution_count": null,
      "outputs": [
        {
          "output_type": "stream",
          "name": "stdout",
          "text": [
            "\u001b[33m\r0% [Working]\u001b[0m\r            \rGet:1 https://developer.download.nvidia.com/compute/cuda/repos/ubuntu1804/x86_64  InRelease [1,581 B]\n",
            "\u001b[33m\r0% [Connecting to archive.ubuntu.com (185.125.190.39)] [Waiting for headers] [W\u001b[0m\u001b[33m\r0% [Connecting to archive.ubuntu.com (185.125.190.39)] [Waiting for headers] [W\u001b[0m\r                                                                               \rGet:2 http://security.ubuntu.com/ubuntu bionic-security InRelease [88.7 kB]\n",
            "Get:3 https://cloud.r-project.org/bin/linux/ubuntu bionic-cran40/ InRelease [3,626 B]\n",
            "Ign:4 https://developer.download.nvidia.com/compute/machine-learning/repos/ubuntu1804/x86_64  InRelease\n",
            "Hit:5 https://developer.download.nvidia.com/compute/machine-learning/repos/ubuntu1804/x86_64  Release\n",
            "Get:6 http://ppa.launchpad.net/c2d4u.team/c2d4u4.0+/ubuntu bionic InRelease [15.9 kB]\n",
            "Hit:7 http://archive.ubuntu.com/ubuntu bionic InRelease\n",
            "Get:8 https://developer.download.nvidia.com/compute/cuda/repos/ubuntu1804/x86_64  Packages [788 kB]\n",
            "Get:9 http://archive.ubuntu.com/ubuntu bionic-updates InRelease [88.7 kB]\n",
            "Hit:10 http://ppa.launchpad.net/cran/libgit2/ubuntu bionic InRelease\n",
            "Get:11 http://archive.ubuntu.com/ubuntu bionic-backports InRelease [74.6 kB]\n",
            "Get:12 http://ppa.launchpad.net/deadsnakes/ppa/ubuntu bionic InRelease [15.9 kB]\n",
            "Get:13 http://ppa.launchpad.net/graphics-drivers/ppa/ubuntu bionic InRelease [21.3 kB]\n",
            "Get:14 http://security.ubuntu.com/ubuntu bionic-security/restricted amd64 Packages [957 kB]\n",
            "Get:15 http://security.ubuntu.com/ubuntu bionic-security/universe amd64 Packages [1,512 kB]\n",
            "Get:16 http://security.ubuntu.com/ubuntu bionic-security/main amd64 Packages [2,798 kB]\n",
            "Get:17 http://security.ubuntu.com/ubuntu bionic-security/multiverse amd64 Packages [22.8 kB]\n",
            "Get:19 http://ppa.launchpad.net/c2d4u.team/c2d4u4.0+/ubuntu bionic/main Sources [1,992 kB]\n",
            "Get:20 http://archive.ubuntu.com/ubuntu bionic-updates/main amd64 Packages [3,231 kB]\n",
            "Get:21 http://ppa.launchpad.net/c2d4u.team/c2d4u4.0+/ubuntu bionic/main amd64 Packages [1,021 kB]\n",
            "Get:22 http://archive.ubuntu.com/ubuntu bionic-updates/restricted amd64 Packages [991 kB]\n",
            "Get:23 http://archive.ubuntu.com/ubuntu bionic-updates/universe amd64 Packages [2,286 kB]\n",
            "Get:24 http://archive.ubuntu.com/ubuntu bionic-updates/multiverse amd64 Packages [29.8 kB]\n",
            "Get:25 http://ppa.launchpad.net/deadsnakes/ppa/ubuntu bionic/main amd64 Packages [45.3 kB]\n",
            "Get:26 http://ppa.launchpad.net/graphics-drivers/ppa/ubuntu bionic/main amd64 Packages [44.3 kB]\n",
            "Fetched 16.0 MB in 6s (2,818 kB/s)\n",
            "Reading package lists... Done\n",
            "Building dependency tree       \n",
            "Reading state information... Done\n",
            "77 packages can be upgraded. Run 'apt list --upgradable' to see them.\n"
          ]
        }
      ]
    },
    {
      "cell_type": "code",
      "source": [
        "!apt install ghostscript -y"
      ],
      "metadata": {
        "colab": {
          "base_uri": "https://localhost:8080/"
        },
        "id": "LhA6AsqZTFFF",
        "outputId": "a67c3f6b-b151-4fca-e2cd-8c854cec4154"
      },
      "execution_count": null,
      "outputs": [
        {
          "output_type": "stream",
          "name": "stdout",
          "text": [
            "Reading package lists... Done\n",
            "Building dependency tree       \n",
            "Reading state information... Done\n",
            "The following package was automatically installed and is no longer required:\n",
            "  libnvidia-common-460\n",
            "Use 'apt autoremove' to remove it.\n",
            "The following additional packages will be installed:\n",
            "  fonts-droid-fallback fonts-noto-mono gsfonts libcups2 libcupsfilters1\n",
            "  libcupsimage2 libgs9 libgs9-common libijs-0.35 libjbig2dec0 poppler-data\n",
            "Suggested packages:\n",
            "  fonts-noto ghostscript-x cups-common poppler-utils fonts-japanese-mincho\n",
            "  | fonts-ipafont-mincho fonts-japanese-gothic | fonts-ipafont-gothic\n",
            "  fonts-arphic-ukai fonts-arphic-uming fonts-nanum\n",
            "The following NEW packages will be installed:\n",
            "  fonts-droid-fallback fonts-noto-mono ghostscript gsfonts libcupsfilters1\n",
            "  libcupsimage2 libgs9 libgs9-common libijs-0.35 libjbig2dec0 poppler-data\n",
            "The following packages will be upgraded:\n",
            "  libcups2\n",
            "1 upgraded, 11 newly installed, 0 to remove and 76 not upgraded.\n",
            "Need to get 14.3 MB of archives.\n",
            "After this operation, 49.9 MB of additional disk space will be used.\n",
            "Get:1 http://archive.ubuntu.com/ubuntu bionic/main amd64 fonts-droid-fallback all 1:6.0.1r16-1.1 [1,805 kB]\n",
            "Get:2 http://archive.ubuntu.com/ubuntu bionic/main amd64 poppler-data all 0.4.8-2 [1,479 kB]\n",
            "Get:3 http://archive.ubuntu.com/ubuntu bionic/main amd64 fonts-noto-mono all 20171026-2 [75.5 kB]\n",
            "Get:4 http://archive.ubuntu.com/ubuntu bionic-updates/main amd64 libcups2 amd64 2.2.7-1ubuntu2.9 [211 kB]\n",
            "Get:5 http://archive.ubuntu.com/ubuntu bionic-updates/main amd64 libcupsimage2 amd64 2.2.7-1ubuntu2.9 [18.6 kB]\n",
            "Get:6 http://archive.ubuntu.com/ubuntu bionic/main amd64 libijs-0.35 amd64 0.35-13 [15.5 kB]\n",
            "Get:7 http://archive.ubuntu.com/ubuntu bionic/main amd64 libjbig2dec0 amd64 0.13-6 [55.9 kB]\n",
            "Get:8 http://archive.ubuntu.com/ubuntu bionic-updates/main amd64 libgs9-common all 9.26~dfsg+0-0ubuntu0.18.04.16 [5,093 kB]\n",
            "Get:9 http://archive.ubuntu.com/ubuntu bionic-updates/main amd64 libgs9 amd64 9.26~dfsg+0-0ubuntu0.18.04.16 [2,265 kB]\n",
            "Get:10 http://archive.ubuntu.com/ubuntu bionic-updates/main amd64 ghostscript amd64 9.26~dfsg+0-0ubuntu0.18.04.16 [51.3 kB]\n",
            "Get:11 http://archive.ubuntu.com/ubuntu bionic/main amd64 gsfonts all 1:8.11+urwcyr1.0.7~pre44-4.4 [3,120 kB]\n",
            "Get:12 http://archive.ubuntu.com/ubuntu bionic-updates/main amd64 libcupsfilters1 amd64 1.20.2-0ubuntu3.1 [108 kB]\n",
            "Fetched 14.3 MB in 1s (19.3 MB/s)\n",
            "Selecting previously unselected package fonts-droid-fallback.\n",
            "(Reading database ... 155629 files and directories currently installed.)\n",
            "Preparing to unpack .../00-fonts-droid-fallback_1%3a6.0.1r16-1.1_all.deb ...\n",
            "Unpacking fonts-droid-fallback (1:6.0.1r16-1.1) ...\n",
            "Selecting previously unselected package poppler-data.\n",
            "Preparing to unpack .../01-poppler-data_0.4.8-2_all.deb ...\n",
            "Unpacking poppler-data (0.4.8-2) ...\n",
            "Selecting previously unselected package fonts-noto-mono.\n",
            "Preparing to unpack .../02-fonts-noto-mono_20171026-2_all.deb ...\n",
            "Unpacking fonts-noto-mono (20171026-2) ...\n",
            "Preparing to unpack .../03-libcups2_2.2.7-1ubuntu2.9_amd64.deb ...\n",
            "Unpacking libcups2:amd64 (2.2.7-1ubuntu2.9) over (2.2.7-1ubuntu2.8) ...\n",
            "Selecting previously unselected package libcupsimage2:amd64.\n",
            "Preparing to unpack .../04-libcupsimage2_2.2.7-1ubuntu2.9_amd64.deb ...\n",
            "Unpacking libcupsimage2:amd64 (2.2.7-1ubuntu2.9) ...\n",
            "Selecting previously unselected package libijs-0.35:amd64.\n",
            "Preparing to unpack .../05-libijs-0.35_0.35-13_amd64.deb ...\n",
            "Unpacking libijs-0.35:amd64 (0.35-13) ...\n",
            "Selecting previously unselected package libjbig2dec0:amd64.\n",
            "Preparing to unpack .../06-libjbig2dec0_0.13-6_amd64.deb ...\n",
            "Unpacking libjbig2dec0:amd64 (0.13-6) ...\n",
            "Selecting previously unselected package libgs9-common.\n",
            "Preparing to unpack .../07-libgs9-common_9.26~dfsg+0-0ubuntu0.18.04.16_all.deb ...\n",
            "Unpacking libgs9-common (9.26~dfsg+0-0ubuntu0.18.04.16) ...\n",
            "Selecting previously unselected package libgs9:amd64.\n",
            "Preparing to unpack .../08-libgs9_9.26~dfsg+0-0ubuntu0.18.04.16_amd64.deb ...\n",
            "Unpacking libgs9:amd64 (9.26~dfsg+0-0ubuntu0.18.04.16) ...\n",
            "Selecting previously unselected package ghostscript.\n",
            "Preparing to unpack .../09-ghostscript_9.26~dfsg+0-0ubuntu0.18.04.16_amd64.deb ...\n",
            "Unpacking ghostscript (9.26~dfsg+0-0ubuntu0.18.04.16) ...\n",
            "Selecting previously unselected package gsfonts.\n",
            "Preparing to unpack .../10-gsfonts_1%3a8.11+urwcyr1.0.7~pre44-4.4_all.deb ...\n",
            "Unpacking gsfonts (1:8.11+urwcyr1.0.7~pre44-4.4) ...\n",
            "Selecting previously unselected package libcupsfilters1:amd64.\n",
            "Preparing to unpack .../11-libcupsfilters1_1.20.2-0ubuntu3.1_amd64.deb ...\n",
            "Unpacking libcupsfilters1:amd64 (1.20.2-0ubuntu3.1) ...\n",
            "Setting up libgs9-common (9.26~dfsg+0-0ubuntu0.18.04.16) ...\n",
            "Setting up fonts-droid-fallback (1:6.0.1r16-1.1) ...\n",
            "Setting up gsfonts (1:8.11+urwcyr1.0.7~pre44-4.4) ...\n",
            "Setting up poppler-data (0.4.8-2) ...\n",
            "Setting up fonts-noto-mono (20171026-2) ...\n",
            "Setting up libjbig2dec0:amd64 (0.13-6) ...\n",
            "Setting up libijs-0.35:amd64 (0.35-13) ...\n",
            "Setting up libcups2:amd64 (2.2.7-1ubuntu2.9) ...\n",
            "Setting up libcupsfilters1:amd64 (1.20.2-0ubuntu3.1) ...\n",
            "Setting up libcupsimage2:amd64 (2.2.7-1ubuntu2.9) ...\n",
            "Setting up libgs9:amd64 (9.26~dfsg+0-0ubuntu0.18.04.16) ...\n",
            "Setting up ghostscript (9.26~dfsg+0-0ubuntu0.18.04.16) ...\n",
            "Processing triggers for man-db (2.8.3-2ubuntu0.1) ...\n",
            "Processing triggers for fontconfig (2.12.6-0ubuntu2) ...\n",
            "Processing triggers for libc-bin (2.27-3ubuntu1.3) ...\n",
            "/sbin/ldconfig.real: /usr/local/lib/python3.7/dist-packages/ideep4py/lib/libmkldnn.so.0 is not a symbolic link\n",
            "\n"
          ]
        }
      ]
    },
    {
      "cell_type": "code",
      "source": [
        "import zipfile\n",
        "import os\n",
        "import camelot \n",
        "import pandas as pd\n",
        "import ghostscript\n",
        "\n",
        "\n",
        "def progresso(atual, total):\n",
        "    porcentagem = round(atual / (total / 100), 2)\n",
        "    barrinha = '{:<50}'.format(int(porcentagem/2)*'❚')\n",
        "    barra_comp = f'[{barrinha}] {porcentagem}% | [{atual}/{total}]'\n",
        "    return barra_comp"
      ],
      "metadata": {
        "id": "kRz1demFPI1W"
      },
      "execution_count": null,
      "outputs": []
    },
    {
      "cell_type": "markdown",
      "source": [
        "* Extração do anexo 1 do anexos.zip que deve estar no ambiente de execução ↓"
      ],
      "metadata": {
        "id": "AaDkMFmSP-kF"
      }
    },
    {
      "cell_type": "code",
      "source": [
        "with zipfile.ZipFile('anexos.zip', 'r') as anexos_zip:\n",
        "    anexo_1 = (anexos_zip.namelist())[0]\n",
        "    anexos_zip.extract(anexo_1)"
      ],
      "metadata": {
        "id": "s2kWekTlPTDs"
      },
      "execution_count": 28,
      "outputs": []
    },
    {
      "cell_type": "markdown",
      "source": [
        "* O camelot irá ler as páginas especificadas nas variáveis 'pag_inicial' e 'pag_final' e transformar as tabelas em .csv, após cada leitura elas serão concatenadas num dataframe pandas.\n",
        "* O máximo de otimização que eu consegui nessa parte foi com um 'for' para ler uma por uma, provavelmente há um modo mais eficiente.\n",
        "* Em seguida as rows das colunas 'OD' e 'AMB' são alteradas no dataframe. Entendi essa tarefa de duas formas, explicitadas no código abaixo↓"
      ],
      "metadata": {
        "id": "TFgV-OpkQjDJ"
      }
    },
    {
      "cell_type": "code",
      "source": [
        "master_df = pd.DataFrame()\n",
        "pag_inicial = 3\n",
        "pag_final = 200\n",
        "ler = (pag_final-pag_inicial)+1\n",
        "for n in range(ler):\n",
        "    tabelas = camelot.read_pdf(f'{anexo_1}', process_background=True,\n",
        "                               pages=f'{n + pag_inicial}', line_scale = 35)\n",
        "    tabelas.export(f'tabela.csv', f='csv')\n",
        "    master_df = pd.concat([master_df, pd.read_csv(f'tabela-page-{n + pag_inicial}-table-1.csv')])\n",
        "    os.remove(f'tabela-page-{n + pag_inicial}-table-1.csv')\n",
        "    print(f'Criando tabelas: {progresso(n, ler)}') #no google colab o \"\\r\" para escrever em uma linha só não funcionou\n",
        "print(f'Criando tabelas: {progresso(ler, ler)}')\n",
        "\n",
        "# cria um novo pandas dataframe, itera sobre as rows e altera de acordo\n",
        "master_df.to_csv('tabela_unica.csv', index=False)\n",
        "df = pd.read_csv(\"tabela_unica.csv\")\n",
        "correct_df = df.copy()\n",
        "for index, row in correct_df.iterrows():\n",
        "    if row['OD'] == 'OD':\n",
        "        correct_df.loc[index, 'OD'] = 'Seg. Odontológica'\n",
        "    if row['AMB'] == 'AMB':\n",
        "        correct_df.loc[index, 'AMB'] = 'Seg. Ambulatorial'\n",
        "\n",
        "# entendi a tarefa de alterar as células de forma ambígua\n",
        "# caso o correto seja alterar apenas as colunas, ative abaixo:\n",
        "'''\n",
        "correct_df.rename(columns={'OD': 'Seg. Odontológica', 'AMB': 'Seg. Ambulatorial'}, inplace=True)\n",
        "'''\n",
        "\n",
        "correct_df.to_csv(r'tabela_unica_fixd.csv', index=False, header=True)\n",
        "with zipfile.ZipFile('Teste_Pedro_Mendes.zip', 'w', compression=zipfile.ZIP_DEFLATED) as zipado:\n",
        "    zipado.write('tabela_unica_fixd.csv')\n",
        "os.remove('tabela_unica.csv')\n",
        "os.remove('tabela_unica_fixd.csv')\n",
        "os.remove(f'{anexo_1}')"
      ],
      "metadata": {
        "id": "73Yy-U9GQHeD",
        "colab": {
          "base_uri": "https://localhost:8080/"
        },
        "outputId": "56ff3164-a14c-454e-ef90-ce5485ea9bf5"
      },
      "execution_count": 29,
      "outputs": [
        {
          "output_type": "stream",
          "name": "stdout",
          "text": [
            "Criando tabelas: [                                                  ] 0.0% | [0/198]\n",
            "Criando tabelas: [                                                  ] 0.51% | [1/198]\n",
            "Criando tabelas: [                                                  ] 1.01% | [2/198]\n",
            "Criando tabelas: [                                                  ] 1.52% | [3/198]\n",
            "Criando tabelas: [❚                                                 ] 2.02% | [4/198]\n",
            "Criando tabelas: [❚                                                 ] 2.53% | [5/198]\n",
            "Criando tabelas: [❚                                                 ] 3.03% | [6/198]\n",
            "Criando tabelas: [❚                                                 ] 3.54% | [7/198]\n",
            "Criando tabelas: [❚❚                                                ] 4.04% | [8/198]\n",
            "Criando tabelas: [❚❚                                                ] 4.55% | [9/198]\n",
            "Criando tabelas: [❚❚                                                ] 5.05% | [10/198]\n",
            "Criando tabelas: [❚❚                                                ] 5.56% | [11/198]\n",
            "Criando tabelas: [❚❚❚                                               ] 6.06% | [12/198]\n",
            "Criando tabelas: [❚❚❚                                               ] 6.57% | [13/198]\n",
            "Criando tabelas: [❚❚❚                                               ] 7.07% | [14/198]\n",
            "Criando tabelas: [❚❚❚                                               ] 7.58% | [15/198]\n",
            "Criando tabelas: [❚❚❚❚                                              ] 8.08% | [16/198]\n",
            "Criando tabelas: [❚❚❚❚                                              ] 8.59% | [17/198]\n",
            "Criando tabelas: [❚❚❚❚                                              ] 9.09% | [18/198]\n",
            "Criando tabelas: [❚❚❚❚                                              ] 9.6% | [19/198]\n",
            "Criando tabelas: [❚❚❚❚❚                                             ] 10.1% | [20/198]\n",
            "Criando tabelas: [❚❚❚❚❚                                             ] 10.61% | [21/198]\n",
            "Criando tabelas: [❚❚❚❚❚                                             ] 11.11% | [22/198]\n",
            "Criando tabelas: [❚❚❚❚❚                                             ] 11.62% | [23/198]\n",
            "Criando tabelas: [❚❚❚❚❚❚                                            ] 12.12% | [24/198]\n",
            "Criando tabelas: [❚❚❚❚❚❚                                            ] 12.63% | [25/198]\n",
            "Criando tabelas: [❚❚❚❚❚❚                                            ] 13.13% | [26/198]\n",
            "Criando tabelas: [❚❚❚❚❚❚                                            ] 13.64% | [27/198]\n",
            "Criando tabelas: [❚❚❚❚❚❚❚                                           ] 14.14% | [28/198]\n",
            "Criando tabelas: [❚❚❚❚❚❚❚                                           ] 14.65% | [29/198]\n",
            "Criando tabelas: [❚❚❚❚❚❚❚                                           ] 15.15% | [30/198]\n",
            "Criando tabelas: [❚❚❚❚❚❚❚                                           ] 15.66% | [31/198]\n",
            "Criando tabelas: [❚❚❚❚❚❚❚❚                                          ] 16.16% | [32/198]\n",
            "Criando tabelas: [❚❚❚❚❚❚❚❚                                          ] 16.67% | [33/198]\n",
            "Criando tabelas: [❚❚❚❚❚❚❚❚                                          ] 17.17% | [34/198]\n",
            "Criando tabelas: [❚❚❚❚❚❚❚❚                                          ] 17.68% | [35/198]\n",
            "Criando tabelas: [❚❚❚❚❚❚❚❚❚                                         ] 18.18% | [36/198]\n",
            "Criando tabelas: [❚❚❚❚❚❚❚❚❚                                         ] 18.69% | [37/198]\n",
            "Criando tabelas: [❚❚❚❚❚❚❚❚❚                                         ] 19.19% | [38/198]\n",
            "Criando tabelas: [❚❚❚❚❚❚❚❚❚                                         ] 19.7% | [39/198]\n",
            "Criando tabelas: [❚❚❚❚❚❚❚❚❚❚                                        ] 20.2% | [40/198]\n",
            "Criando tabelas: [❚❚❚❚❚❚❚❚❚❚                                        ] 20.71% | [41/198]\n",
            "Criando tabelas: [❚❚❚❚❚❚❚❚❚❚                                        ] 21.21% | [42/198]\n",
            "Criando tabelas: [❚❚❚❚❚❚❚❚❚❚                                        ] 21.72% | [43/198]\n",
            "Criando tabelas: [❚❚❚❚❚❚❚❚❚❚❚                                       ] 22.22% | [44/198]\n",
            "Criando tabelas: [❚❚❚❚❚❚❚❚❚❚❚                                       ] 22.73% | [45/198]\n",
            "Criando tabelas: [❚❚❚❚❚❚❚❚❚❚❚                                       ] 23.23% | [46/198]\n",
            "Criando tabelas: [❚❚❚❚❚❚❚❚❚❚❚                                       ] 23.74% | [47/198]\n",
            "Criando tabelas: [❚❚❚❚❚❚❚❚❚❚❚❚                                      ] 24.24% | [48/198]\n",
            "Criando tabelas: [❚❚❚❚❚❚❚❚❚❚❚❚                                      ] 24.75% | [49/198]\n",
            "Criando tabelas: [❚❚❚❚❚❚❚❚❚❚❚❚                                      ] 25.25% | [50/198]\n",
            "Criando tabelas: [❚❚❚❚❚❚❚❚❚❚❚❚                                      ] 25.76% | [51/198]\n",
            "Criando tabelas: [❚❚❚❚❚❚❚❚❚❚❚❚❚                                     ] 26.26% | [52/198]\n",
            "Criando tabelas: [❚❚❚❚❚❚❚❚❚❚❚❚❚                                     ] 26.77% | [53/198]\n",
            "Criando tabelas: [❚❚❚❚❚❚❚❚❚❚❚❚❚                                     ] 27.27% | [54/198]\n",
            "Criando tabelas: [❚❚❚❚❚❚❚❚❚❚❚❚❚                                     ] 27.78% | [55/198]\n",
            "Criando tabelas: [❚❚❚❚❚❚❚❚❚❚❚❚❚❚                                    ] 28.28% | [56/198]\n",
            "Criando tabelas: [❚❚❚❚❚❚❚❚❚❚❚❚❚❚                                    ] 28.79% | [57/198]\n",
            "Criando tabelas: [❚❚❚❚❚❚❚❚❚❚❚❚❚❚                                    ] 29.29% | [58/198]\n",
            "Criando tabelas: [❚❚❚❚❚❚❚❚❚❚❚❚❚❚                                    ] 29.8% | [59/198]\n",
            "Criando tabelas: [❚❚❚❚❚❚❚❚❚❚❚❚❚❚❚                                   ] 30.3% | [60/198]\n",
            "Criando tabelas: [❚❚❚❚❚❚❚❚❚❚❚❚❚❚❚                                   ] 30.81% | [61/198]\n",
            "Criando tabelas: [❚❚❚❚❚❚❚❚❚❚❚❚❚❚❚                                   ] 31.31% | [62/198]\n",
            "Criando tabelas: [❚❚❚❚❚❚❚❚❚❚❚❚❚❚❚                                   ] 31.82% | [63/198]\n",
            "Criando tabelas: [❚❚❚❚❚❚❚❚❚❚❚❚❚❚❚❚                                  ] 32.32% | [64/198]\n",
            "Criando tabelas: [❚❚❚❚❚❚❚❚❚❚❚❚❚❚❚❚                                  ] 32.83% | [65/198]\n",
            "Criando tabelas: [❚❚❚❚❚❚❚❚❚❚❚❚❚❚❚❚                                  ] 33.33% | [66/198]\n",
            "Criando tabelas: [❚❚❚❚❚❚❚❚❚❚❚❚❚❚❚❚                                  ] 33.84% | [67/198]\n",
            "Criando tabelas: [❚❚❚❚❚❚❚❚❚❚❚❚❚❚❚❚❚                                 ] 34.34% | [68/198]\n",
            "Criando tabelas: [❚❚❚❚❚❚❚❚❚❚❚❚❚❚❚❚❚                                 ] 34.85% | [69/198]\n",
            "Criando tabelas: [❚❚❚❚❚❚❚❚❚❚❚❚❚❚❚❚❚                                 ] 35.35% | [70/198]\n",
            "Criando tabelas: [❚❚❚❚❚❚❚❚❚❚❚❚❚❚❚❚❚                                 ] 35.86% | [71/198]\n",
            "Criando tabelas: [❚❚❚❚❚❚❚❚❚❚❚❚❚❚❚❚❚❚                                ] 36.36% | [72/198]\n",
            "Criando tabelas: [❚❚❚❚❚❚❚❚❚❚❚❚❚❚❚❚❚❚                                ] 36.87% | [73/198]\n",
            "Criando tabelas: [❚❚❚❚❚❚❚❚❚❚❚❚❚❚❚❚❚❚                                ] 37.37% | [74/198]\n",
            "Criando tabelas: [❚❚❚❚❚❚❚❚❚❚❚❚❚❚❚❚❚❚                                ] 37.88% | [75/198]\n",
            "Criando tabelas: [❚❚❚❚❚❚❚❚❚❚❚❚❚❚❚❚❚❚❚                               ] 38.38% | [76/198]\n",
            "Criando tabelas: [❚❚❚❚❚❚❚❚❚❚❚❚❚❚❚❚❚❚❚                               ] 38.89% | [77/198]\n",
            "Criando tabelas: [❚❚❚❚❚❚❚❚❚❚❚❚❚❚❚❚❚❚❚                               ] 39.39% | [78/198]\n",
            "Criando tabelas: [❚❚❚❚❚❚❚❚❚❚❚❚❚❚❚❚❚❚❚                               ] 39.9% | [79/198]\n",
            "Criando tabelas: [❚❚❚❚❚❚❚❚❚❚❚❚❚❚❚❚❚❚❚❚                              ] 40.4% | [80/198]\n",
            "Criando tabelas: [❚❚❚❚❚❚❚❚❚❚❚❚❚❚❚❚❚❚❚❚                              ] 40.91% | [81/198]\n",
            "Criando tabelas: [❚❚❚❚❚❚❚❚❚❚❚❚❚❚❚❚❚❚❚❚                              ] 41.41% | [82/198]\n",
            "Criando tabelas: [❚❚❚❚❚❚❚❚❚❚❚❚❚❚❚❚❚❚❚❚                              ] 41.92% | [83/198]\n",
            "Criando tabelas: [❚❚❚❚❚❚❚❚❚❚❚❚❚❚❚❚❚❚❚❚❚                             ] 42.42% | [84/198]\n",
            "Criando tabelas: [❚❚❚❚❚❚❚❚❚❚❚❚❚❚❚❚❚❚❚❚❚                             ] 42.93% | [85/198]\n",
            "Criando tabelas: [❚❚❚❚❚❚❚❚❚❚❚❚❚❚❚❚❚❚❚❚❚                             ] 43.43% | [86/198]\n",
            "Criando tabelas: [❚❚❚❚❚❚❚❚❚❚❚❚❚❚❚❚❚❚❚❚❚                             ] 43.94% | [87/198]\n",
            "Criando tabelas: [❚❚❚❚❚❚❚❚❚❚❚❚❚❚❚❚❚❚❚❚❚❚                            ] 44.44% | [88/198]\n",
            "Criando tabelas: [❚❚❚❚❚❚❚❚❚❚❚❚❚❚❚❚❚❚❚❚❚❚                            ] 44.95% | [89/198]\n",
            "Criando tabelas: [❚❚❚❚❚❚❚❚❚❚❚❚❚❚❚❚❚❚❚❚❚❚                            ] 45.45% | [90/198]\n",
            "Criando tabelas: [❚❚❚❚❚❚❚❚❚❚❚❚❚❚❚❚❚❚❚❚❚❚                            ] 45.96% | [91/198]\n",
            "Criando tabelas: [❚❚❚❚❚❚❚❚❚❚❚❚❚❚❚❚❚❚❚❚❚❚❚                           ] 46.46% | [92/198]\n",
            "Criando tabelas: [❚❚❚❚❚❚❚❚❚❚❚❚❚❚❚❚❚❚❚❚❚❚❚                           ] 46.97% | [93/198]\n",
            "Criando tabelas: [❚❚❚❚❚❚❚❚❚❚❚❚❚❚❚❚❚❚❚❚❚❚❚                           ] 47.47% | [94/198]\n",
            "Criando tabelas: [❚❚❚❚❚❚❚❚❚❚❚❚❚❚❚❚❚❚❚❚❚❚❚                           ] 47.98% | [95/198]\n",
            "Criando tabelas: [❚❚❚❚❚❚❚❚❚❚❚❚❚❚❚❚❚❚❚❚❚❚❚❚                          ] 48.48% | [96/198]\n",
            "Criando tabelas: [❚❚❚❚❚❚❚❚❚❚❚❚❚❚❚❚❚❚❚❚❚❚❚❚                          ] 48.99% | [97/198]\n",
            "Criando tabelas: [❚❚❚❚❚❚❚❚❚❚❚❚❚❚❚❚❚❚❚❚❚❚❚❚                          ] 49.49% | [98/198]\n",
            "Criando tabelas: [❚❚❚❚❚❚❚❚❚❚❚❚❚❚❚❚❚❚❚❚❚❚❚❚❚                         ] 50.0% | [99/198]\n",
            "Criando tabelas: [❚❚❚❚❚❚❚❚❚❚❚❚❚❚❚❚❚❚❚❚❚❚❚❚❚                         ] 50.51% | [100/198]\n",
            "Criando tabelas: [❚❚❚❚❚❚❚❚❚❚❚❚❚❚❚❚❚❚❚❚❚❚❚❚❚                         ] 51.01% | [101/198]\n",
            "Criando tabelas: [❚❚❚❚❚❚❚❚❚❚❚❚❚❚❚❚❚❚❚❚❚❚❚❚❚                         ] 51.52% | [102/198]\n",
            "Criando tabelas: [❚❚❚❚❚❚❚❚❚❚❚❚❚❚❚❚❚❚❚❚❚❚❚❚❚❚                        ] 52.02% | [103/198]\n",
            "Criando tabelas: [❚❚❚❚❚❚❚❚❚❚❚❚❚❚❚❚❚❚❚❚❚❚❚❚❚❚                        ] 52.53% | [104/198]\n",
            "Criando tabelas: [❚❚❚❚❚❚❚❚❚❚❚❚❚❚❚❚❚❚❚❚❚❚❚❚❚❚                        ] 53.03% | [105/198]\n",
            "Criando tabelas: [❚❚❚❚❚❚❚❚❚❚❚❚❚❚❚❚❚❚❚❚❚❚❚❚❚❚                        ] 53.54% | [106/198]\n",
            "Criando tabelas: [❚❚❚❚❚❚❚❚❚❚❚❚❚❚❚❚❚❚❚❚❚❚❚❚❚❚❚                       ] 54.04% | [107/198]\n",
            "Criando tabelas: [❚❚❚❚❚❚❚❚❚❚❚❚❚❚❚❚❚❚❚❚❚❚❚❚❚❚❚                       ] 54.55% | [108/198]\n",
            "Criando tabelas: [❚❚❚❚❚❚❚❚❚❚❚❚❚❚❚❚❚❚❚❚❚❚❚❚❚❚❚                       ] 55.05% | [109/198]\n",
            "Criando tabelas: [❚❚❚❚❚❚❚❚❚❚❚❚❚❚❚❚❚❚❚❚❚❚❚❚❚❚❚                       ] 55.56% | [110/198]\n",
            "Criando tabelas: [❚❚❚❚❚❚❚❚❚❚❚❚❚❚❚❚❚❚❚❚❚❚❚❚❚❚❚❚                      ] 56.06% | [111/198]\n",
            "Criando tabelas: [❚❚❚❚❚❚❚❚❚❚❚❚❚❚❚❚❚❚❚❚❚❚❚❚❚❚❚❚                      ] 56.57% | [112/198]\n",
            "Criando tabelas: [❚❚❚❚❚❚❚❚❚❚❚❚❚❚❚❚❚❚❚❚❚❚❚❚❚❚❚❚                      ] 57.07% | [113/198]\n",
            "Criando tabelas: [❚❚❚❚❚❚❚❚❚❚❚❚❚❚❚❚❚❚❚❚❚❚❚❚❚❚❚❚                      ] 57.58% | [114/198]\n",
            "Criando tabelas: [❚❚❚❚❚❚❚❚❚❚❚❚❚❚❚❚❚❚❚❚❚❚❚❚❚❚❚❚❚                     ] 58.08% | [115/198]\n",
            "Criando tabelas: [❚❚❚❚❚❚❚❚❚❚❚❚❚❚❚❚❚❚❚❚❚❚❚❚❚❚❚❚❚                     ] 58.59% | [116/198]\n",
            "Criando tabelas: [❚❚❚❚❚❚❚❚❚❚❚❚❚❚❚❚❚❚❚❚❚❚❚❚❚❚❚❚❚                     ] 59.09% | [117/198]\n",
            "Criando tabelas: [❚❚❚❚❚❚❚❚❚❚❚❚❚❚❚❚❚❚❚❚❚❚❚❚❚❚❚❚❚                     ] 59.6% | [118/198]\n",
            "Criando tabelas: [❚❚❚❚❚❚❚❚❚❚❚❚❚❚❚❚❚❚❚❚❚❚❚❚❚❚❚❚❚❚                    ] 60.1% | [119/198]\n",
            "Criando tabelas: [❚❚❚❚❚❚❚❚❚❚❚❚❚❚❚❚❚❚❚❚❚❚❚❚❚❚❚❚❚❚                    ] 60.61% | [120/198]\n",
            "Criando tabelas: [❚❚❚❚❚❚❚❚❚❚❚❚❚❚❚❚❚❚❚❚❚❚❚❚❚❚❚❚❚❚                    ] 61.11% | [121/198]\n",
            "Criando tabelas: [❚❚❚❚❚❚❚❚❚❚❚❚❚❚❚❚❚❚❚❚❚❚❚❚❚❚❚❚❚❚                    ] 61.62% | [122/198]\n",
            "Criando tabelas: [❚❚❚❚❚❚❚❚❚❚❚❚❚❚❚❚❚❚❚❚❚❚❚❚❚❚❚❚❚❚❚                   ] 62.12% | [123/198]\n",
            "Criando tabelas: [❚❚❚❚❚❚❚❚❚❚❚❚❚❚❚❚❚❚❚❚❚❚❚❚❚❚❚❚❚❚❚                   ] 62.63% | [124/198]\n",
            "Criando tabelas: [❚❚❚❚❚❚❚❚❚❚❚❚❚❚❚❚❚❚❚❚❚❚❚❚❚❚❚❚❚❚❚                   ] 63.13% | [125/198]\n",
            "Criando tabelas: [❚❚❚❚❚❚❚❚❚❚❚❚❚❚❚❚❚❚❚❚❚❚❚❚❚❚❚❚❚❚❚                   ] 63.64% | [126/198]\n",
            "Criando tabelas: [❚❚❚❚❚❚❚❚❚❚❚❚❚❚❚❚❚❚❚❚❚❚❚❚❚❚❚❚❚❚❚❚                  ] 64.14% | [127/198]\n",
            "Criando tabelas: [❚❚❚❚❚❚❚❚❚❚❚❚❚❚❚❚❚❚❚❚❚❚❚❚❚❚❚❚❚❚❚❚                  ] 64.65% | [128/198]\n",
            "Criando tabelas: [❚❚❚❚❚❚❚❚❚❚❚❚❚❚❚❚❚❚❚❚❚❚❚❚❚❚❚❚❚❚❚❚                  ] 65.15% | [129/198]\n",
            "Criando tabelas: [❚❚❚❚❚❚❚❚❚❚❚❚❚❚❚❚❚❚❚❚❚❚❚❚❚❚❚❚❚❚❚❚                  ] 65.66% | [130/198]\n",
            "Criando tabelas: [❚❚❚❚❚❚❚❚❚❚❚❚❚❚❚❚❚❚❚❚❚❚❚❚❚❚❚❚❚❚❚❚❚                 ] 66.16% | [131/198]\n",
            "Criando tabelas: [❚❚❚❚❚❚❚❚❚❚❚❚❚❚❚❚❚❚❚❚❚❚❚❚❚❚❚❚❚❚❚❚❚                 ] 66.67% | [132/198]\n",
            "Criando tabelas: [❚❚❚❚❚❚❚❚❚❚❚❚❚❚❚❚❚❚❚❚❚❚❚❚❚❚❚❚❚❚❚❚❚                 ] 67.17% | [133/198]\n",
            "Criando tabelas: [❚❚❚❚❚❚❚❚❚❚❚❚❚❚❚❚❚❚❚❚❚❚❚❚❚❚❚❚❚❚❚❚❚                 ] 67.68% | [134/198]\n",
            "Criando tabelas: [❚❚❚❚❚❚❚❚❚❚❚❚❚❚❚❚❚❚❚❚❚❚❚❚❚❚❚❚❚❚❚❚❚❚                ] 68.18% | [135/198]\n",
            "Criando tabelas: [❚❚❚❚❚❚❚❚❚❚❚❚❚❚❚❚❚❚❚❚❚❚❚❚❚❚❚❚❚❚❚❚❚❚                ] 68.69% | [136/198]\n",
            "Criando tabelas: [❚❚❚❚❚❚❚❚❚❚❚❚❚❚❚❚❚❚❚❚❚❚❚❚❚❚❚❚❚❚❚❚❚❚                ] 69.19% | [137/198]\n",
            "Criando tabelas: [❚❚❚❚❚❚❚❚❚❚❚❚❚❚❚❚❚❚❚❚❚❚❚❚❚❚❚❚❚❚❚❚❚❚                ] 69.7% | [138/198]\n",
            "Criando tabelas: [❚❚❚❚❚❚❚❚❚❚❚❚❚❚❚❚❚❚❚❚❚❚❚❚❚❚❚❚❚❚❚❚❚❚❚               ] 70.2% | [139/198]\n",
            "Criando tabelas: [❚❚❚❚❚❚❚❚❚❚❚❚❚❚❚❚❚❚❚❚❚❚❚❚❚❚❚❚❚❚❚❚❚❚❚               ] 70.71% | [140/198]\n",
            "Criando tabelas: [❚❚❚❚❚❚❚❚❚❚❚❚❚❚❚❚❚❚❚❚❚❚❚❚❚❚❚❚❚❚❚❚❚❚❚               ] 71.21% | [141/198]\n",
            "Criando tabelas: [❚❚❚❚❚❚❚❚❚❚❚❚❚❚❚❚❚❚❚❚❚❚❚❚❚❚❚❚❚❚❚❚❚❚❚               ] 71.72% | [142/198]\n",
            "Criando tabelas: [❚❚❚❚❚❚❚❚❚❚❚❚❚❚❚❚❚❚❚❚❚❚❚❚❚❚❚❚❚❚❚❚❚❚❚❚              ] 72.22% | [143/198]\n",
            "Criando tabelas: [❚❚❚❚❚❚❚❚❚❚❚❚❚❚❚❚❚❚❚❚❚❚❚❚❚❚❚❚❚❚❚❚❚❚❚❚              ] 72.73% | [144/198]\n",
            "Criando tabelas: [❚❚❚❚❚❚❚❚❚❚❚❚❚❚❚❚❚❚❚❚❚❚❚❚❚❚❚❚❚❚❚❚❚❚❚❚              ] 73.23% | [145/198]\n",
            "Criando tabelas: [❚❚❚❚❚❚❚❚❚❚❚❚❚❚❚❚❚❚❚❚❚❚❚❚❚❚❚❚❚❚❚❚❚❚❚❚              ] 73.74% | [146/198]\n",
            "Criando tabelas: [❚❚❚❚❚❚❚❚❚❚❚❚❚❚❚❚❚❚❚❚❚❚❚❚❚❚❚❚❚❚❚❚❚❚❚❚❚             ] 74.24% | [147/198]\n",
            "Criando tabelas: [❚❚❚❚❚❚❚❚❚❚❚❚❚❚❚❚❚❚❚❚❚❚❚❚❚❚❚❚❚❚❚❚❚❚❚❚❚             ] 74.75% | [148/198]\n",
            "Criando tabelas: [❚❚❚❚❚❚❚❚❚❚❚❚❚❚❚❚❚❚❚❚❚❚❚❚❚❚❚❚❚❚❚❚❚❚❚❚❚             ] 75.25% | [149/198]\n",
            "Criando tabelas: [❚❚❚❚❚❚❚❚❚❚❚❚❚❚❚❚❚❚❚❚❚❚❚❚❚❚❚❚❚❚❚❚❚❚❚❚❚             ] 75.76% | [150/198]\n",
            "Criando tabelas: [❚❚❚❚❚❚❚❚❚❚❚❚❚❚❚❚❚❚❚❚❚❚❚❚❚❚❚❚❚❚❚❚❚❚❚❚❚❚            ] 76.26% | [151/198]\n",
            "Criando tabelas: [❚❚❚❚❚❚❚❚❚❚❚❚❚❚❚❚❚❚❚❚❚❚❚❚❚❚❚❚❚❚❚❚❚❚❚❚❚❚            ] 76.77% | [152/198]\n",
            "Criando tabelas: [❚❚❚❚❚❚❚❚❚❚❚❚❚❚❚❚❚❚❚❚❚❚❚❚❚❚❚❚❚❚❚❚❚❚❚❚❚❚            ] 77.27% | [153/198]\n",
            "Criando tabelas: [❚❚❚❚❚❚❚❚❚❚❚❚❚❚❚❚❚❚❚❚❚❚❚❚❚❚❚❚❚❚❚❚❚❚❚❚❚❚            ] 77.78% | [154/198]\n",
            "Criando tabelas: [❚❚❚❚❚❚❚❚❚❚❚❚❚❚❚❚❚❚❚❚❚❚❚❚❚❚❚❚❚❚❚❚❚❚❚❚❚❚❚           ] 78.28% | [155/198]\n",
            "Criando tabelas: [❚❚❚❚❚❚❚❚❚❚❚❚❚❚❚❚❚❚❚❚❚❚❚❚❚❚❚❚❚❚❚❚❚❚❚❚❚❚❚           ] 78.79% | [156/198]\n",
            "Criando tabelas: [❚❚❚❚❚❚❚❚❚❚❚❚❚❚❚❚❚❚❚❚❚❚❚❚❚❚❚❚❚❚❚❚❚❚❚❚❚❚❚           ] 79.29% | [157/198]\n",
            "Criando tabelas: [❚❚❚❚❚❚❚❚❚❚❚❚❚❚❚❚❚❚❚❚❚❚❚❚❚❚❚❚❚❚❚❚❚❚❚❚❚❚❚           ] 79.8% | [158/198]\n",
            "Criando tabelas: [❚❚❚❚❚❚❚❚❚❚❚❚❚❚❚❚❚❚❚❚❚❚❚❚❚❚❚❚❚❚❚❚❚❚❚❚❚❚❚❚          ] 80.3% | [159/198]\n",
            "Criando tabelas: [❚❚❚❚❚❚❚❚❚❚❚❚❚❚❚❚❚❚❚❚❚❚❚❚❚❚❚❚❚❚❚❚❚❚❚❚❚❚❚❚          ] 80.81% | [160/198]\n",
            "Criando tabelas: [❚❚❚❚❚❚❚❚❚❚❚❚❚❚❚❚❚❚❚❚❚❚❚❚❚❚❚❚❚❚❚❚❚❚❚❚❚❚❚❚          ] 81.31% | [161/198]\n",
            "Criando tabelas: [❚❚❚❚❚❚❚❚❚❚❚❚❚❚❚❚❚❚❚❚❚❚❚❚❚❚❚❚❚❚❚❚❚❚❚❚❚❚❚❚          ] 81.82% | [162/198]\n",
            "Criando tabelas: [❚❚❚❚❚❚❚❚❚❚❚❚❚❚❚❚❚❚❚❚❚❚❚❚❚❚❚❚❚❚❚❚❚❚❚❚❚❚❚❚❚         ] 82.32% | [163/198]\n",
            "Criando tabelas: [❚❚❚❚❚❚❚❚❚❚❚❚❚❚❚❚❚❚❚❚❚❚❚❚❚❚❚❚❚❚❚❚❚❚❚❚❚❚❚❚❚         ] 82.83% | [164/198]\n",
            "Criando tabelas: [❚❚❚❚❚❚❚❚❚❚❚❚❚❚❚❚❚❚❚❚❚❚❚❚❚❚❚❚❚❚❚❚❚❚❚❚❚❚❚❚❚         ] 83.33% | [165/198]\n",
            "Criando tabelas: [❚❚❚❚❚❚❚❚❚❚❚❚❚❚❚❚❚❚❚❚❚❚❚❚❚❚❚❚❚❚❚❚❚❚❚❚❚❚❚❚❚         ] 83.84% | [166/198]\n",
            "Criando tabelas: [❚❚❚❚❚❚❚❚❚❚❚❚❚❚❚❚❚❚❚❚❚❚❚❚❚❚❚❚❚❚❚❚❚❚❚❚❚❚❚❚❚❚        ] 84.34% | [167/198]\n",
            "Criando tabelas: [❚❚❚❚❚❚❚❚❚❚❚❚❚❚❚❚❚❚❚❚❚❚❚❚❚❚❚❚❚❚❚❚❚❚❚❚❚❚❚❚❚❚        ] 84.85% | [168/198]\n",
            "Criando tabelas: [❚❚❚❚❚❚❚❚❚❚❚❚❚❚❚❚❚❚❚❚❚❚❚❚❚❚❚❚❚❚❚❚❚❚❚❚❚❚❚❚❚❚        ] 85.35% | [169/198]\n",
            "Criando tabelas: [❚❚❚❚❚❚❚❚❚❚❚❚❚❚❚❚❚❚❚❚❚❚❚❚❚❚❚❚❚❚❚❚❚❚❚❚❚❚❚❚❚❚        ] 85.86% | [170/198]\n",
            "Criando tabelas: [❚❚❚❚❚❚❚❚❚❚❚❚❚❚❚❚❚❚❚❚❚❚❚❚❚❚❚❚❚❚❚❚❚❚❚❚❚❚❚❚❚❚❚       ] 86.36% | [171/198]\n",
            "Criando tabelas: [❚❚❚❚❚❚❚❚❚❚❚❚❚❚❚❚❚❚❚❚❚❚❚❚❚❚❚❚❚❚❚❚❚❚❚❚❚❚❚❚❚❚❚       ] 86.87% | [172/198]\n",
            "Criando tabelas: [❚❚❚❚❚❚❚❚❚❚❚❚❚❚❚❚❚❚❚❚❚❚❚❚❚❚❚❚❚❚❚❚❚❚❚❚❚❚❚❚❚❚❚       ] 87.37% | [173/198]\n",
            "Criando tabelas: [❚❚❚❚❚❚❚❚❚❚❚❚❚❚❚❚❚❚❚❚❚❚❚❚❚❚❚❚❚❚❚❚❚❚❚❚❚❚❚❚❚❚❚       ] 87.88% | [174/198]\n",
            "Criando tabelas: [❚❚❚❚❚❚❚❚❚❚❚❚❚❚❚❚❚❚❚❚❚❚❚❚❚❚❚❚❚❚❚❚❚❚❚❚❚❚❚❚❚❚❚❚      ] 88.38% | [175/198]\n",
            "Criando tabelas: [❚❚❚❚❚❚❚❚❚❚❚❚❚❚❚❚❚❚❚❚❚❚❚❚❚❚❚❚❚❚❚❚❚❚❚❚❚❚❚❚❚❚❚❚      ] 88.89% | [176/198]\n",
            "Criando tabelas: [❚❚❚❚❚❚❚❚❚❚❚❚❚❚❚❚❚❚❚❚❚❚❚❚❚❚❚❚❚❚❚❚❚❚❚❚❚❚❚❚❚❚❚❚      ] 89.39% | [177/198]\n",
            "Criando tabelas: [❚❚❚❚❚❚❚❚❚❚❚❚❚❚❚❚❚❚❚❚❚❚❚❚❚❚❚❚❚❚❚❚❚❚❚❚❚❚❚❚❚❚❚❚      ] 89.9% | [178/198]\n",
            "Criando tabelas: [❚❚❚❚❚❚❚❚❚❚❚❚❚❚❚❚❚❚❚❚❚❚❚❚❚❚❚❚❚❚❚❚❚❚❚❚❚❚❚❚❚❚❚❚❚     ] 90.4% | [179/198]\n",
            "Criando tabelas: [❚❚❚❚❚❚❚❚❚❚❚❚❚❚❚❚❚❚❚❚❚❚❚❚❚❚❚❚❚❚❚❚❚❚❚❚❚❚❚❚❚❚❚❚❚     ] 90.91% | [180/198]\n",
            "Criando tabelas: [❚❚❚❚❚❚❚❚❚❚❚❚❚❚❚❚❚❚❚❚❚❚❚❚❚❚❚❚❚❚❚❚❚❚❚❚❚❚❚❚❚❚❚❚❚     ] 91.41% | [181/198]\n",
            "Criando tabelas: [❚❚❚❚❚❚❚❚❚❚❚❚❚❚❚❚❚❚❚❚❚❚❚❚❚❚❚❚❚❚❚❚❚❚❚❚❚❚❚❚❚❚❚❚❚     ] 91.92% | [182/198]\n",
            "Criando tabelas: [❚❚❚❚❚❚❚❚❚❚❚❚❚❚❚❚❚❚❚❚❚❚❚❚❚❚❚❚❚❚❚❚❚❚❚❚❚❚❚❚❚❚❚❚❚❚    ] 92.42% | [183/198]\n",
            "Criando tabelas: [❚❚❚❚❚❚❚❚❚❚❚❚❚❚❚❚❚❚❚❚❚❚❚❚❚❚❚❚❚❚❚❚❚❚❚❚❚❚❚❚❚❚❚❚❚❚    ] 92.93% | [184/198]\n",
            "Criando tabelas: [❚❚❚❚❚❚❚❚❚❚❚❚❚❚❚❚❚❚❚❚❚❚❚❚❚❚❚❚❚❚❚❚❚❚❚❚❚❚❚❚❚❚❚❚❚❚    ] 93.43% | [185/198]\n",
            "Criando tabelas: [❚❚❚❚❚❚❚❚❚❚❚❚❚❚❚❚❚❚❚❚❚❚❚❚❚❚❚❚❚❚❚❚❚❚❚❚❚❚❚❚❚❚❚❚❚❚    ] 93.94% | [186/198]\n",
            "Criando tabelas: [❚❚❚❚❚❚❚❚❚❚❚❚❚❚❚❚❚❚❚❚❚❚❚❚❚❚❚❚❚❚❚❚❚❚❚❚❚❚❚❚❚❚❚❚❚❚❚   ] 94.44% | [187/198]\n",
            "Criando tabelas: [❚❚❚❚❚❚❚❚❚❚❚❚❚❚❚❚❚❚❚❚❚❚❚❚❚❚❚❚❚❚❚❚❚❚❚❚❚❚❚❚❚❚❚❚❚❚❚   ] 94.95% | [188/198]\n",
            "Criando tabelas: [❚❚❚❚❚❚❚❚❚❚❚❚❚❚❚❚❚❚❚❚❚❚❚❚❚❚❚❚❚❚❚❚❚❚❚❚❚❚❚❚❚❚❚❚❚❚❚   ] 95.45% | [189/198]\n",
            "Criando tabelas: [❚❚❚❚❚❚❚❚❚❚❚❚❚❚❚❚❚❚❚❚❚❚❚❚❚❚❚❚❚❚❚❚❚❚❚❚❚❚❚❚❚❚❚❚❚❚❚   ] 95.96% | [190/198]\n",
            "Criando tabelas: [❚❚❚❚❚❚❚❚❚❚❚❚❚❚❚❚❚❚❚❚❚❚❚❚❚❚❚❚❚❚❚❚❚❚❚❚❚❚❚❚❚❚❚❚❚❚❚❚  ] 96.46% | [191/198]\n",
            "Criando tabelas: [❚❚❚❚❚❚❚❚❚❚❚❚❚❚❚❚❚❚❚❚❚❚❚❚❚❚❚❚❚❚❚❚❚❚❚❚❚❚❚❚❚❚❚❚❚❚❚❚  ] 96.97% | [192/198]\n",
            "Criando tabelas: [❚❚❚❚❚❚❚❚❚❚❚❚❚❚❚❚❚❚❚❚❚❚❚❚❚❚❚❚❚❚❚❚❚❚❚❚❚❚❚❚❚❚❚❚❚❚❚❚  ] 97.47% | [193/198]\n",
            "Criando tabelas: [❚❚❚❚❚❚❚❚❚❚❚❚❚❚❚❚❚❚❚❚❚❚❚❚❚❚❚❚❚❚❚❚❚❚❚❚❚❚❚❚❚❚❚❚❚❚❚❚  ] 97.98% | [194/198]\n",
            "Criando tabelas: [❚❚❚❚❚❚❚❚❚❚❚❚❚❚❚❚❚❚❚❚❚❚❚❚❚❚❚❚❚❚❚❚❚❚❚❚❚❚❚❚❚❚❚❚❚❚❚❚❚ ] 98.48% | [195/198]\n",
            "Criando tabelas: [❚❚❚❚❚❚❚❚❚❚❚❚❚❚❚❚❚❚❚❚❚❚❚❚❚❚❚❚❚❚❚❚❚❚❚❚❚❚❚❚❚❚❚❚❚❚❚❚❚ ] 98.99% | [196/198]\n",
            "Criando tabelas: [❚❚❚❚❚❚❚❚❚❚❚❚❚❚❚❚❚❚❚❚❚❚❚❚❚❚❚❚❚❚❚❚❚❚❚❚❚❚❚❚❚❚❚❚❚❚❚❚❚ ] 99.49% | [197/198]\n",
            "Criando tabelas: [❚❚❚❚❚❚❚❚❚❚❚❚❚❚❚❚❚❚❚❚❚❚❚❚❚❚❚❚❚❚❚❚❚❚❚❚❚❚❚❚❚❚❚❚❚❚❚❚❚❚] 100.0% | [198/198]\n"
          ]
        }
      ]
    }
  ]
}